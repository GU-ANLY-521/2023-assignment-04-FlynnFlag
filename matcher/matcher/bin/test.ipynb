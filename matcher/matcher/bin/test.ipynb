{
 "cells": [
  {
   "cell_type": "code",
   "execution_count": 2,
   "metadata": {},
   "outputs": [],
   "source": [
    "import pandas as pd"
   ]
  },
  {
   "cell_type": "code",
   "execution_count": 29,
   "metadata": {},
   "outputs": [
    {
     "data": {
      "text/html": [
       "<div>\n",
       "<style scoped>\n",
       "    .dataframe tbody tr th:only-of-type {\n",
       "        vertical-align: middle;\n",
       "    }\n",
       "\n",
       "    .dataframe tbody tr th {\n",
       "        vertical-align: top;\n",
       "    }\n",
       "\n",
       "    .dataframe thead th {\n",
       "        text-align: right;\n",
       "    }\n",
       "</style>\n",
       "<table border=\"1\" class=\"dataframe\">\n",
       "  <thead>\n",
       "    <tr style=\"text-align: right;\">\n",
       "      <th></th>\n",
       "      <th>personLabel</th>\n",
       "      <th>aliasLabel</th>\n",
       "    </tr>\n",
       "  </thead>\n",
       "  <tbody>\n",
       "    <tr>\n",
       "      <th>0</th>\n",
       "      <td>Cicero</td>\n",
       "      <td>M. Tullii Ciceronis</td>\n",
       "    </tr>\n",
       "    <tr>\n",
       "      <th>1</th>\n",
       "      <td>Cicero</td>\n",
       "      <td>M. Tullius Cicero</td>\n",
       "    </tr>\n",
       "    <tr>\n",
       "      <th>2</th>\n",
       "      <td>Mustafa Kemal Atatürk</td>\n",
       "      <td>Kemal Atatürk</td>\n",
       "    </tr>\n",
       "    <tr>\n",
       "      <th>3</th>\n",
       "      <td>Caracalla</td>\n",
       "      <td>Marcus Aurelius Antoninus</td>\n",
       "    </tr>\n",
       "    <tr>\n",
       "      <th>4</th>\n",
       "      <td>Britta Thomsen</td>\n",
       "      <td>NaN</td>\n",
       "    </tr>\n",
       "    <tr>\n",
       "      <th>...</th>\n",
       "      <td>...</td>\n",
       "      <td>...</td>\n",
       "    </tr>\n",
       "    <tr>\n",
       "      <th>49954</th>\n",
       "      <td>Sulim Yamadayev</td>\n",
       "      <td>Suleiman Bekmirzayevich Yamadayev</td>\n",
       "    </tr>\n",
       "    <tr>\n",
       "      <th>49955</th>\n",
       "      <td>Sulim Yamadayev</td>\n",
       "      <td>Sulim Bekmirzayevich Yamadayev</td>\n",
       "    </tr>\n",
       "    <tr>\n",
       "      <th>49956</th>\n",
       "      <td>Tom Mboya</td>\n",
       "      <td>Thomas Joseph Odhiambo Mboya</td>\n",
       "    </tr>\n",
       "    <tr>\n",
       "      <th>49957</th>\n",
       "      <td>Barnabe Googe</td>\n",
       "      <td>NaN</td>\n",
       "    </tr>\n",
       "    <tr>\n",
       "      <th>49958</th>\n",
       "      <td>Filippo Turati</td>\n",
       "      <td>NaN</td>\n",
       "    </tr>\n",
       "  </tbody>\n",
       "</table>\n",
       "<p>49959 rows × 2 columns</p>\n",
       "</div>"
      ],
      "text/plain": [
       "                 personLabel                         aliasLabel\n",
       "0                     Cicero                M. Tullii Ciceronis\n",
       "1                     Cicero                  M. Tullius Cicero\n",
       "2      Mustafa Kemal Atatürk                      Kemal Atatürk\n",
       "3                  Caracalla          Marcus Aurelius Antoninus\n",
       "4             Britta Thomsen                                NaN\n",
       "...                      ...                                ...\n",
       "49954        Sulim Yamadayev  Suleiman Bekmirzayevich Yamadayev\n",
       "49955        Sulim Yamadayev     Sulim Bekmirzayevich Yamadayev\n",
       "49956              Tom Mboya       Thomas Joseph Odhiambo Mboya\n",
       "49957          Barnabe Googe                                NaN\n",
       "49958         Filippo Turati                                NaN\n",
       "\n",
       "[49959 rows x 2 columns]"
      ]
     },
     "execution_count": 29,
     "metadata": {},
     "output_type": "execute_result"
    }
   ],
   "source": [
    "df=pd.read_csv('../../data/names.tsv', sep='\\t')\n",
    "df"
   ]
  },
  {
   "cell_type": "code",
   "execution_count": 32,
   "metadata": {},
   "outputs": [
    {
     "ename": "TypeError",
     "evalue": "'float' object is not iterable",
     "output_type": "error",
     "traceback": [
      "\u001b[1;31m---------------------------------------------------------------------------\u001b[0m",
      "\u001b[1;31mTypeError\u001b[0m                                 Traceback (most recent call last)",
      "\u001b[1;32md:\\521\\2023-assignment-04-FlynnFlag\\matcher\\matcher\\bin\\test.ipynb Cell 3\u001b[0m in \u001b[0;36m<cell line: 1>\u001b[1;34m()\u001b[0m\n\u001b[0;32m      <a href='vscode-notebook-cell:/d%3A/521/2023-assignment-04-FlynnFlag/matcher/matcher/bin/test.ipynb#W5sZmlsZQ%3D%3D?line=4'>5</a>\u001b[0m soundex_digits \u001b[39m=\u001b[39m \u001b[39m\"\u001b[39m\u001b[39m01230120022455012623010202\u001b[39m\u001b[39m\"\u001b[39m\n\u001b[0;32m      <a href='vscode-notebook-cell:/d%3A/521/2023-assignment-04-FlynnFlag/matcher/matcher/bin/test.ipynb#W5sZmlsZQ%3D%3D?line=6'>7</a>\u001b[0m \u001b[39m# Convert the name to uppercase and remove non-alphabetic characters\u001b[39;00m\n\u001b[1;32m----> <a href='vscode-notebook-cell:/d%3A/521/2023-assignment-04-FlynnFlag/matcher/matcher/bin/test.ipynb#W5sZmlsZQ%3D%3D?line=7'>8</a>\u001b[0m name \u001b[39m=\u001b[39m \u001b[39m'\u001b[39m\u001b[39m'\u001b[39m\u001b[39m.\u001b[39mjoin(c \u001b[39mfor\u001b[39;00m c \u001b[39min\u001b[39;00m name \u001b[39mif\u001b[39;00m c\u001b[39m.\u001b[39misalpha())\n\u001b[0;32m      <a href='vscode-notebook-cell:/d%3A/521/2023-assignment-04-FlynnFlag/matcher/matcher/bin/test.ipynb#W5sZmlsZQ%3D%3D?line=8'>9</a>\u001b[0m name \u001b[39m=\u001b[39m name\u001b[39m.\u001b[39mupper()\n\u001b[0;32m     <a href='vscode-notebook-cell:/d%3A/521/2023-assignment-04-FlynnFlag/matcher/matcher/bin/test.ipynb#W5sZmlsZQ%3D%3D?line=10'>11</a>\u001b[0m \u001b[39m# If the name is empty or only contains one character, return the name as is\u001b[39;00m\n\u001b[0;32m     <a href='vscode-notebook-cell:/d%3A/521/2023-assignment-04-FlynnFlag/matcher/matcher/bin/test.ipynb#W5sZmlsZQ%3D%3D?line=11'>12</a>\u001b[0m \n\u001b[0;32m     <a href='vscode-notebook-cell:/d%3A/521/2023-assignment-04-FlynnFlag/matcher/matcher/bin/test.ipynb#W5sZmlsZQ%3D%3D?line=12'>13</a>\u001b[0m \u001b[39m# Remove consecutive duplicates\u001b[39;00m\n",
      "\u001b[1;31mTypeError\u001b[0m: 'float' object is not iterable"
     ]
    }
   ],
   "source": [
    "for i in df['aliasLabel']:\n",
    "    name=i\n",
    "    \n",
    "    # Define the mapping of letters to Soundex digits\n",
    "    soundex_digits = \"01230120022455012623010202\"\n",
    "\n",
    "    # Convert the name to uppercase and remove non-alphabetic characters\n",
    "    name = str(name)\n",
    "    name = ''.join(c for c in name if c.isalpha())\n",
    "    name = name.upper()\n",
    "\n",
    "    # If the name is empty or only contains one character, return the name as is\n",
    "\n",
    "    # Remove consecutive duplicates\n",
    "    name = name[0] + ''.join(name[i] for i in range(1, len(name)) if name[i] != name[i-1])\n",
    "    filter_name=''\n",
    "    for char in name:\n",
    "        if ord(char) - ord('A') <= 25:\n",
    "            filter_name += char\n",
    "        name=filter_name\n",
    "\n",
    "    # Replace each letter with its Soundex digit\n",
    "    soundex_code = name[0]\n",
    "    for letter in name[1:]:\n",
    "        soundex_digit = soundex_digits[ord(letter) - ord('A')]\n",
    "        if soundex_digit != soundex_code[-1]:\n",
    "            soundex_code += soundex_digit\n",
    "\n",
    "    # Remove any zeros and pad the code with trailing zeros if needed\n",
    "    soundex_code = soundex_code.replace('0', '')\n",
    "    soundex_code += '0' * (4 - len(soundex_code))\n",
    "\n",
    "    soundex_code[:4]\n",
    "\n",
    "\n",
    "\n",
    "    "
   ]
  },
  {
   "cell_type": "code",
   "execution_count": 26,
   "metadata": {},
   "outputs": [
    {
     "data": {
      "text/plain": [
       "'C260'"
      ]
     },
     "execution_count": 26,
     "metadata": {},
     "output_type": "execute_result"
    }
   ],
   "source": [
    "name= 'CICERO'\n",
    "\n",
    "# Define the mapping of letters to Soundex digits\n",
    "soundex_digits = \"01230120022455012623010202\"\n",
    "\n",
    "# Convert the name to uppercase and remove non-alphabetic characters\n",
    "name = name.upper()\n",
    "name = ''.join(c for c in name if c.isalpha())\n",
    "\n",
    "# If the name is empty or only contains one character, return the name as is\n",
    "\n",
    "# Remove consecutive duplicates\n",
    "name = name[0] + ''.join(name[i] for i in range(1, len(name)) if name[i] != name[i-1])\n",
    "filter_name=''\n",
    "for char in name:\n",
    "    if ord(char) - ord('A') <= 25:\n",
    "        filter_name += char\n",
    "    name=filter_name\n",
    "\n",
    "# Replace each letter with its Soundex digit\n",
    "soundex_code = name[0]\n",
    "for letter in name[1:]:\n",
    "    soundex_digit = soundex_digits[ord(letter) - ord('A')]\n",
    "    if soundex_digit != soundex_code[-1]:\n",
    "        soundex_code += soundex_digit\n",
    "\n",
    "# Remove any zeros and pad the code with trailing zeros if needed\n",
    "soundex_code = soundex_code.replace('0', '')\n",
    "soundex_code += '0' * (4 - len(soundex_code))\n",
    "\n",
    "soundex_code[:4]\n"
   ]
  },
  {
   "cell_type": "code",
   "execution_count": 4,
   "metadata": {},
   "outputs": [
    {
     "data": {
      "text/plain": [
       "25"
      ]
     },
     "execution_count": 4,
     "metadata": {},
     "output_type": "execute_result"
    }
   ],
   "source": [
    "ord('Z') - ord('A')"
   ]
  },
  {
   "cell_type": "code",
   "execution_count": null,
   "metadata": {},
   "outputs": [],
   "source": []
  }
 ],
 "metadata": {
  "kernelspec": {
   "display_name": "ANLY501",
   "language": "python",
   "name": "python3"
  },
  "language_info": {
   "codemirror_mode": {
    "name": "ipython",
    "version": 3
   },
   "file_extension": ".py",
   "mimetype": "text/x-python",
   "name": "python",
   "nbconvert_exporter": "python",
   "pygments_lexer": "ipython3",
   "version": "3.10.9"
  },
  "orig_nbformat": 4
 },
 "nbformat": 4,
 "nbformat_minor": 2
}
